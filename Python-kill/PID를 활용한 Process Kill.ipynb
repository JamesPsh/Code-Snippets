{
 "cells": [
  {
   "cell_type": "code",
   "execution_count": 1,
   "id": "2f3c75ba",
   "metadata": {},
   "outputs": [],
   "source": [
    "import psutil"
   ]
  },
  {
   "cell_type": "code",
   "execution_count": 2,
   "id": "7ae8b219",
   "metadata": {},
   "outputs": [
    {
     "name": "stdout",
     "output_type": "stream",
     "text": [
      "psutil.Process(pid=4376, name='python.exe', status='running', started='07:51:26')\n",
      "psutil.Process(pid=9672, name='python.exe', status='running', started='08:08:52')\n",
      "psutil.Process(pid=12824, name='python.exe', status='running', started='07:54:27')\n",
      "psutil.Process(pid=20332, name='python.exe', status='running', started='07:54:17')\n",
      "psutil.Process(pid=25812, name='python.exe', status='running', started='07:51:26')\n",
      "psutil.Process(pid=29468, name='python.exe', status='running', started='07:54:17')\n"
     ]
    }
   ],
   "source": [
    "def find_process(process_name):\n",
    "    out = []\n",
    "    for process in psutil.process_iter():\n",
    "        if process_name == process.name():\n",
    "            out.append(process)\n",
    "    return out\n",
    "\n",
    "for process in find_process('python.exe'):\n",
    "    print(process)"
   ]
  },
  {
   "cell_type": "code",
   "execution_count": 3,
   "id": "1a1ec5c7",
   "metadata": {},
   "outputs": [],
   "source": [
    "def kill_process_using_pid(pid, including_children = False):\n",
    "    parent = psutil.Process(pid)\n",
    "    if including_children:\n",
    "        for child in parent.children(recursive = True):\n",
    "            child.kill()\n",
    "    parent.kill()"
   ]
  }
 ],
 "metadata": {
  "kernelspec": {
   "display_name": "Python 3 (ipykernel)",
   "language": "python",
   "name": "python3"
  },
  "language_info": {
   "codemirror_mode": {
    "name": "ipython",
    "version": 3
   },
   "file_extension": ".py",
   "mimetype": "text/x-python",
   "name": "python",
   "nbconvert_exporter": "python",
   "pygments_lexer": "ipython3",
   "version": "3.8.13"
  }
 },
 "nbformat": 4,
 "nbformat_minor": 5
}
